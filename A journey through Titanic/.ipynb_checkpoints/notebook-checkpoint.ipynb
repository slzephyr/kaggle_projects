{
 "metadata": {
  "_change_revision": 0,
  "_is_fork": false,
  "kernelspec": {
   "display_name": "Python 3",
   "language": "python",
   "name": "python3"
  },
  "language_info": {
   "codemirror_mode": {
    "name": "ipython",
    "version": 3
   },
   "file_extension": ".py",
   "mimetype": "text/x-python",
   "name": "python",
   "nbconvert_exporter": "python",
   "pygments_lexer": "ipython3",
   "version": "3.6.1"
  },
  "name": "",
  "signature": "sha256:fddb9d6a63a32ee25e9ab1e45f7b921ade259169ca0e839242430ddf35149dcd"
 },
 "nbformat": 3,
 "nbformat_minor": 0,
 "worksheets": [
  {
   "cells": [
    {
     "cell_type": "code",
     "collapsed": false,
     "input": [
      "# Imports\n",
      "\n",
      "# pandas\n",
      "import pandas as pd\n",
      "from pandas import Series,DataFrame\n",
      "\n",
      "# numpy, matplotlib, seaborn\n",
      "import numpy as np\n",
      "import matplotlib.pyplot as plt\n",
      "import seaborn as sns\n",
      "sns.set_style('whitegrid')\n",
      "%matplotlib inline\n",
      "\n",
      "# machine learning\n",
      "from sklearn.linear_model import LogisticRegression\n",
      "from sklearn.svm import SVC, LinearSVC\n",
      "from sklearn.ensemble import RandomForestClassifier\n",
      "from sklearn.neighbors import KNeighborsClassifier\n",
      "from sklearn.naive_bayes import GaussianNB"
     ],
     "language": "python",
     "metadata": {
      "_cell_guid": "cfdaacbc-23a3-423d-8d4d-120939ac7383",
      "_uuid": "d31b5d3f5c6f037d7c911e103629ffe9a42cf704"
     },
     "outputs": [],
     "prompt_number": 1
    },
    {
     "cell_type": "code",
     "collapsed": false,
     "input": [
      "# get titanic & test csv files as a DataFrame\n",
      "titanic_df = pd.read_csv(\"./dataset/train.csv\")\n",
      "test_df    = pd.read_csv(\"./dataset/test.csv\")\n",
      "\n",
      "# preview the data\n",
      "titanic_df.head()"
     ],
     "language": "python",
     "metadata": {
      "_cell_guid": "3ab4c525-a5cb-4183-9468-c1dd005c4c78",
      "_uuid": "21bba10a7adb67377bcaaae6ae1369cfb010caa7"
     },
     "outputs": [
      {
       "html": [
        "<div style=\"max-width:1500px;overflow:auto;\">\n",
        "<table border=\"1\" class=\"dataframe\">\n",
        "  <thead>\n",
        "    <tr style=\"text-align: right;\">\n",
        "      <th></th>\n",
        "      <th>PassengerId</th>\n",
        "      <th>Survived</th>\n",
        "      <th>Pclass</th>\n",
        "      <th>Name</th>\n",
        "      <th>Sex</th>\n",
        "      <th>Age</th>\n",
        "      <th>SibSp</th>\n",
        "      <th>Parch</th>\n",
        "      <th>Ticket</th>\n",
        "      <th>Fare</th>\n",
        "      <th>Cabin</th>\n",
        "      <th>Embarked</th>\n",
        "    </tr>\n",
        "  </thead>\n",
        "  <tbody>\n",
        "    <tr>\n",
        "      <th>0</th>\n",
        "      <td>1</td>\n",
        "      <td>0</td>\n",
        "      <td>3</td>\n",
        "      <td>Braund, Mr. Owen Harris</td>\n",
        "      <td>male</td>\n",
        "      <td>22</td>\n",
        "      <td>1</td>\n",
        "      <td>0</td>\n",
        "      <td>A/5 21171</td>\n",
        "      <td>7.2500</td>\n",
        "      <td>NaN</td>\n",
        "      <td>S</td>\n",
        "    </tr>\n",
        "    <tr>\n",
        "      <th>1</th>\n",
        "      <td>2</td>\n",
        "      <td>1</td>\n",
        "      <td>1</td>\n",
        "      <td>Cumings, Mrs. John Bradley (Florence Briggs Th...</td>\n",
        "      <td>female</td>\n",
        "      <td>38</td>\n",
        "      <td>1</td>\n",
        "      <td>0</td>\n",
        "      <td>PC 17599</td>\n",
        "      <td>71.2833</td>\n",
        "      <td>C85</td>\n",
        "      <td>C</td>\n",
        "    </tr>\n",
        "    <tr>\n",
        "      <th>2</th>\n",
        "      <td>3</td>\n",
        "      <td>1</td>\n",
        "      <td>3</td>\n",
        "      <td>Heikkinen, Miss. Laina</td>\n",
        "      <td>female</td>\n",
        "      <td>26</td>\n",
        "      <td>0</td>\n",
        "      <td>0</td>\n",
        "      <td>STON/O2. 3101282</td>\n",
        "      <td>7.9250</td>\n",
        "      <td>NaN</td>\n",
        "      <td>S</td>\n",
        "    </tr>\n",
        "    <tr>\n",
        "      <th>3</th>\n",
        "      <td>4</td>\n",
        "      <td>1</td>\n",
        "      <td>1</td>\n",
        "      <td>Futrelle, Mrs. Jacques Heath (Lily May Peel)</td>\n",
        "      <td>female</td>\n",
        "      <td>35</td>\n",
        "      <td>1</td>\n",
        "      <td>0</td>\n",
        "      <td>113803</td>\n",
        "      <td>53.1000</td>\n",
        "      <td>C123</td>\n",
        "      <td>S</td>\n",
        "    </tr>\n",
        "    <tr>\n",
        "      <th>4</th>\n",
        "      <td>5</td>\n",
        "      <td>0</td>\n",
        "      <td>3</td>\n",
        "      <td>Allen, Mr. William Henry</td>\n",
        "      <td>male</td>\n",
        "      <td>35</td>\n",
        "      <td>0</td>\n",
        "      <td>0</td>\n",
        "      <td>373450</td>\n",
        "      <td>8.0500</td>\n",
        "      <td>NaN</td>\n",
        "      <td>S</td>\n",
        "    </tr>\n",
        "  </tbody>\n",
        "</table>\n",
        "</div>"
       ],
       "metadata": {},
       "output_type": "pyout",
       "prompt_number": 2,
       "text": [
        "   PassengerId  Survived  Pclass  \\\n",
        "0            1         0       3   \n",
        "1            2         1       1   \n",
        "2            3         1       3   \n",
        "3            4         1       1   \n",
        "4            5         0       3   \n",
        "\n",
        "                                                Name     Sex  Age  SibSp  \\\n",
        "0                            Braund, Mr. Owen Harris    male   22      1   \n",
        "1  Cumings, Mrs. John Bradley (Florence Briggs Th...  female   38      1   \n",
        "2                             Heikkinen, Miss. Laina  female   26      0   \n",
        "3       Futrelle, Mrs. Jacques Heath (Lily May Peel)  female   35      1   \n",
        "4                           Allen, Mr. William Henry    male   35      0   \n",
        "\n",
        "   Parch            Ticket     Fare Cabin Embarked  \n",
        "0      0         A/5 21171   7.2500   NaN        S  \n",
        "1      0          PC 17599  71.2833   C85        C  \n",
        "2      0  STON/O2. 3101282   7.9250   NaN        S  \n",
        "3      0            113803  53.1000  C123        S  \n",
        "4      0            373450   8.0500   NaN        S  "
       ]
      }
     ],
     "prompt_number": 2
    },
    {
     "cell_type": "code",
     "collapsed": false,
     "input": [
      "titanic_df.info()\n",
      "print(\"----------------------------\")\n",
      "test_df.info()"
     ],
     "language": "python",
     "metadata": {
      "_cell_guid": "86179af8-3cb4-4661-84ea-addd2c7679d4",
      "_uuid": "29846bc0c395fc1a2bf1ac1a3239c4358a253b90"
     },
     "outputs": [
      {
       "output_type": "stream",
       "stream": "stdout",
       "text": [
        "<class 'pandas.core.frame.DataFrame'>\n",
        "Int64Index: 891 entries, 0 to 890\n",
        "Data columns (total 12 columns):\n",
        "PassengerId    891 non-null int64\n",
        "Survived       891 non-null int64\n",
        "Pclass         891 non-null int64\n",
        "Name           891 non-null object\n",
        "Sex            891 non-null object\n",
        "Age            714 non-null float64\n",
        "SibSp          891 non-null int64\n",
        "Parch          891 non-null int64\n",
        "Ticket         891 non-null object\n",
        "Fare           891 non-null float64\n",
        "Cabin          204 non-null object\n",
        "Embarked       889 non-null object\n",
        "dtypes: float64(2), int64(5), object(5)\n",
        "memory usage: 90.5+ KB\n",
        "----------------------------\n",
        "<class 'pandas.core.frame.DataFrame'>\n",
        "Int64Index: 418 entries, 0 to 417\n",
        "Data columns (total 11 columns):\n",
        "PassengerId    418 non-null int64\n",
        "Pclass         418 non-null int64\n",
        "Name           418 non-null object\n",
        "Sex            418 non-null object\n",
        "Age            332 non-null float64\n",
        "SibSp          418 non-null int64\n",
        "Parch          418 non-null int64\n",
        "Ticket         418 non-null object\n",
        "Fare           417 non-null float64\n",
        "Cabin          91 non-null object\n",
        "Embarked       418 non-null object\n",
        "dtypes: float64(2), int64(4), object(5)\n",
        "memory usage: 39.2+ KB\n"
       ]
      }
     ],
     "prompt_number": 3
    },
    {
     "cell_type": "code",
     "collapsed": false,
     "input": [
      "# drop unnecessary columns, these columns won't be useful in analysis and prediction\n",
      "titanic_df = titanic_df.drop(['PassengerId','Name','Ticket'], axis=1)\n",
      "test_df    = test_df.drop(['Name','Ticket'], axis=1)"
     ],
     "language": "python",
     "metadata": {
      "_cell_guid": "7faffa7c-9776-43fb-9c01-786630f237ab",
      "_uuid": "88849ac1bf09f494ea1fc0c6bbc4707897f5c31b"
     },
     "outputs": [],
     "prompt_number": 4
    },
    {
     "cell_type": "code",
     "collapsed": false,
     "input": [
      "# Embarked\n",
      "\n",
      "# only in titanic_df, fill the two missing values with the most occurred value, which is \"S\".\n",
      "titanic_df[\"Embarked\"] = titanic_df[\"Embarked\"].fillna(\"S\")\n",
      "\n",
      "# plot\n",
      "sns.factorplot('Embarked','Survived', data=titanic_df,size=4,aspect=3)\n",
      "\n",
      "fig, (axis1,axis2,axis3) = plt.subplots(1,3,figsize=(15,5))\n",
      "\n",
      "# sns.factorplot('Embarked',data=titanic_df,kind='count',order=['S','C','Q'],ax=axis1)\n",
      "# sns.factorplot('Survived',hue=\"Embarked\",data=titanic_df,kind='count',order=[1,0],ax=axis2)\n",
      "sns.countplot(x='Embarked', data=titanic_df, ax=axis1)\n",
      "sns.countplot(x='Survived', hue=\"Embarked\", data=titanic_df, order=[1,0], ax=axis2)\n",
      "\n",
      "# group by embarked, and get the mean for survived passengers for each value in Embarked\n",
      "embark_perc = titanic_df[[\"Embarked\", \"Survived\"]].groupby(['Embarked'],as_index=False).mean()\n",
      "sns.barplot(x='Embarked', y='Survived', data=embark_perc,order=['S','C','Q'],ax=axis3)\n",
      "\n",
      "# Either to consider Embarked column in predictions,\n",
      "# and remove \"S\" dummy variable, \n",
      "# and leave \"C\" & \"Q\", since they seem to have a good rate for Survival.\n",
      "\n",
      "# OR, don't create dummy variables for Embarked column, just drop it, \n",
      "# because logically, Embarked doesn't seem to be useful in prediction.\n",
      "\n",
      "embark_dummies_titanic  = pd.get_dummies(titanic_df['Embarked'])\n",
      "embark_dummies_titanic.drop(['S'], axis=1, inplace=True)\n",
      "\n",
      "embark_dummies_test  = pd.get_dummies(test_df['Embarked'])\n",
      "embark_dummies_test.drop(['S'], axis=1, inplace=True)\n",
      "\n",
      "titanic_df = titanic_df.join(embark_dummies_titanic)\n",
      "test_df    = test_df.join(embark_dummies_test)\n",
      "\n",
      "titanic_df.drop(['Embarked'], axis=1,inplace=True)\n",
      "test_df.drop(['Embarked'], axis=1,inplace=True)"
     ],
     "language": "python",
     "metadata": {
      "_cell_guid": "b1441ec8-7d77-4a69-990b-26e0b1e89b68",
      "_uuid": "4d0402f371c84cf90e77d6911115ab63121dd441"
     },
     "outputs": [
      {
       "metadata": {},
       "output_type": "display_data",
       "png": "[encoded data removed]",
       "text": [
        "<matplotlib.figure.Figure at 0x7fbd9d963750>"
       ]
      },
      {
       "metadata": {},
       "output_type": "display_data",
       "png": "[encoded data removed]",
       "text": [
        "<matplotlib.figure.Figure at 0x7fbd68079f90>"
       ]
      }
     ],
     "prompt_number": 5
    },
    {
     "cell_type": "code",
     "collapsed": false,
     "input": [
      "# Fare\n",
      "\n",
      "# only for test_df, since there is a missing \"Fare\" values\n",
      "test_df[\"Fare\"].fillna(test_df[\"Fare\"].median(), inplace=True)\n",
      "\n",
      "# convert from float to int\n",
      "titanic_df['Fare'] = titanic_df['Fare'].astype(int)\n",
      "test_df['Fare']    = test_df['Fare'].astype(int)\n",
      "\n",
      "# get fare for survived & didn't survive passengers \n",
      "fare_not_survived = titanic_df[\"Fare\"][titanic_df[\"Survived\"] == 0]\n",
      "fare_survived     = titanic_df[\"Fare\"][titanic_df[\"Survived\"] == 1]\n",
      "\n",
      "# get average and std for fare of survived/not survived passengers\n",
      "avgerage_fare = DataFrame([fare_not_survived.mean(), fare_survived.mean()])\n",
      "std_fare      = DataFrame([fare_not_survived.std(), fare_survived.std()])\n",
      "\n",
      "# plot\n",
      "titanic_df['Fare'].plot(kind='hist', figsize=(15,3),bins=100, xlim=(0,50))\n",
      "\n",
      "avgerage_fare.index.names = std_fare.index.names = [\"Survived\"]\n",
      "avgerage_fare.plot(yerr=std_fare,kind='bar',legend=False)"
     ],
     "language": "python",
     "metadata": {
      "_cell_guid": "b1a9e2e1-1718-4e6a-b037-a2c1eca1c003",
      "_uuid": "2007a62483b2359f556a8d1d0e678999c8612086"
     },
     "outputs": [
      {
       "metadata": {},
       "output_type": "pyout",
       "prompt_number": 6,
       "text": [
        "<matplotlib.axes._subplots.AxesSubplot at 0x7fbd64069190>"
       ]
      },
      {
       "metadata": {},
       "output_type": "display_data",
       "png": "[encoded data removed]",
       "text": [
        "<matplotlib.figure.Figure at 0x7fbd680acf50>"
       ]
      },
      {
       "metadata": {},
       "output_type": "display_data",
       "png": "[encoded data removed]",
       "text": [
        "<matplotlib.figure.Figure at 0x7fbd680acf10>"
       ]
      }
     ],
     "prompt_number": 6
    },
    {
     "cell_type": "code",
     "collapsed": false,
     "input": [
      "# Age \n",
      "\n",
      "fig, (axis1,axis2) = plt.subplots(1,2,figsize=(15,4))\n",
      "axis1.set_title('Original Age values - Titanic')\n",
      "axis2.set_title('New Age values - Titanic')\n",
      "\n",
      "# axis3.set_title('Original Age values - Test')\n",
      "# axis4.set_title('New Age values - Test')\n",
      "\n",
      "# get average, std, and number of NaN values in titanic_df\n",
      "average_age_titanic   = titanic_df[\"Age\"].mean()\n",
      "std_age_titanic       = titanic_df[\"Age\"].std()\n",
      "count_nan_age_titanic = titanic_df[\"Age\"].isnull().sum()\n",
      "\n",
      "# get average, std, and number of NaN values in test_df\n",
      "average_age_test   = test_df[\"Age\"].mean()\n",
      "std_age_test       = test_df[\"Age\"].std()\n",
      "count_nan_age_test = test_df[\"Age\"].isnull().sum()\n",
      "\n",
      "# generate random numbers between (mean - std) & (mean + std)\n",
      "rand_1 = np.random.randint(average_age_titanic - std_age_titanic, average_age_titanic + std_age_titanic, size = count_nan_age_titanic)\n",
      "rand_2 = np.random.randint(average_age_test - std_age_test, average_age_test + std_age_test, size = count_nan_age_test)\n",
      "\n",
      "# plot original Age values\n",
      "# NOTE: drop all null values, and convert to int\n",
      "titanic_df['Age'].dropna().astype(int).hist(bins=70, ax=axis1)\n",
      "# test_df['Age'].dropna().astype(int).hist(bins=70, ax=axis1)\n",
      "\n",
      "# fill NaN values in Age column with random values generated\n",
      "titanic_df[\"Age\"][np.isnan(titanic_df[\"Age\"])] = rand_1\n",
      "test_df[\"Age\"][np.isnan(test_df[\"Age\"])] = rand_2\n",
      "\n",
      "# convert from float to int\n",
      "titanic_df['Age'] = titanic_df['Age'].astype(int)\n",
      "test_df['Age']    = test_df['Age'].astype(int)\n",
      "        \n",
      "# plot new Age Values\n",
      "titanic_df['Age'].hist(bins=70, ax=axis2)\n",
      "# test_df['Age'].hist(bins=70, ax=axis4)"
     ],
     "language": "python",
     "metadata": {
      "_cell_guid": "22ab0b38-6285-4d65-bb3e-dc923caed94b",
      "_uuid": "64b4bc02184f8e4c6ba0d32a39e4ffe5a7775846"
     },
     "outputs": [
      {
       "output_type": "stream",
       "stream": "stderr",
       "text": [
        "-c:30: SettingWithCopyWarning: \n",
        "A value is trying to be set on a copy of a slice from a DataFrame\n",
        "\n",
        "See the caveats in the documentation: http://pandas.pydata.org/pandas-docs/stable/indexing.html#indexing-view-versus-copy\n",
        "-c:31: SettingWithCopyWarning: \n",
        "A value is trying to be set on a copy of a slice from a DataFrame\n",
        "\n",
        "See the caveats in the documentation: http://pandas.pydata.org/pandas-docs/stable/indexing.html#indexing-view-versus-copy\n"
       ]
      },
      {
       "metadata": {},
       "output_type": "pyout",
       "prompt_number": 7,
       "text": [
        "<matplotlib.axes._subplots.AxesSubplot at 0x7fbd644c8990>"
       ]
      },
      {
       "metadata": {},
       "output_type": "display_data",
       "png": "[encoded data removed]",
       "text": [
        "<matplotlib.figure.Figure at 0x7fbd63fe4d90>"
       ]
      }
     ],
     "prompt_number": 7
    },
    {
     "cell_type": "code",
     "collapsed": false,
     "input": [
      "# .... continue with plot Age column\n",
      "\n",
      "# peaks for survived/not survived passengers by their age\n",
      "facet = sns.FacetGrid(titanic_df, hue=\"Survived\",aspect=4)\n",
      "facet.map(sns.kdeplot,'Age',shade= True)\n",
      "facet.set(xlim=(0, titanic_df['Age'].max()))\n",
      "facet.add_legend()\n",
      "\n",
      "# average survived passengers by age\n",
      "fig, axis1 = plt.subplots(1,1,figsize=(18,4))\n",
      "average_age = titanic_df[[\"Age\", \"Survived\"]].groupby(['Age'],as_index=False).mean()\n",
      "sns.barplot(x='Age', y='Survived', data=average_age)"
     ],
     "language": "python",
     "metadata": {
      "_cell_guid": "952009ab-555c-46f8-b419-182f2de39ca0",
      "_uuid": "eccb93e3bbebeaa89e54e87dcec982b30d4bd5fb"
     },
     "outputs": [
      {
       "metadata": {},
       "output_type": "pyout",
       "prompt_number": 8,
       "text": [
        "<matplotlib.axes._subplots.AxesSubplot at 0x7fbd63f23950>"
       ]
      },
      {
       "metadata": {},
       "output_type": "display_data",
       "png": "[encoded data removed]",
       "text": [
        "<matplotlib.figure.Figure at 0x7fbd64240f90>"
       ]
      },
      {
       "metadata": {},
       "output_type": "display_data",
       "png": "[encoded data removed]",
       "text": [
        "<matplotlib.figure.Figure at 0x7fbd641c49d0>"
       ]
      }
     ],
     "prompt_number": 8
    },
    {
     "cell_type": "code",
     "collapsed": false,
     "input": [
      "# Cabin\n",
      "# It has a lot of NaN values, so it won't cause a remarkable impact on prediction\n",
      "titanic_df.drop(\"Cabin\",axis=1,inplace=True)\n",
      "test_df.drop(\"Cabin\",axis=1,inplace=True)"
     ],
     "language": "python",
     "metadata": {
      "_cell_guid": "ef0f0c9d-6b45-4cb0-9026-86b764084398",
      "_uuid": "59e72df13d16b56f52832b9f19f90a2fe38b1342"
     },
     "outputs": [],
     "prompt_number": 9
    },
    {
     "cell_type": "code",
     "collapsed": false,
     "input": [
      "# Family\n",
      "\n",
      "# Instead of having two columns Parch & SibSp, \n",
      "# we can have only one column represent if the passenger had any family member aboard or not,\n",
      "# Meaning, if having any family member(whether parent, brother, ...etc) will increase chances of Survival or not.\n",
      "titanic_df['Family'] =  titanic_df[\"Parch\"] + titanic_df[\"SibSp\"]\n",
      "titanic_df['Family'].loc[titanic_df['Family'] > 0] = 1\n",
      "titanic_df['Family'].loc[titanic_df['Family'] == 0] = 0\n",
      "\n",
      "test_df['Family'] =  test_df[\"Parch\"] + test_df[\"SibSp\"]\n",
      "test_df['Family'].loc[test_df['Family'] > 0] = 1\n",
      "test_df['Family'].loc[test_df['Family'] == 0] = 0\n",
      "\n",
      "# drop Parch & SibSp\n",
      "titanic_df = titanic_df.drop(['SibSp','Parch'], axis=1)\n",
      "test_df    = test_df.drop(['SibSp','Parch'], axis=1)\n",
      "\n",
      "# plot\n",
      "fig, (axis1,axis2) = plt.subplots(1,2,sharex=True,figsize=(10,5))\n",
      "\n",
      "# sns.factorplot('Family',data=titanic_df,kind='count',ax=axis1)\n",
      "sns.countplot(x='Family', data=titanic_df, order=[1,0], ax=axis1)\n",
      "\n",
      "# average of survived for those who had/didn't have any family member\n",
      "family_perc = titanic_df[[\"Family\", \"Survived\"]].groupby(['Family'],as_index=False).mean()\n",
      "sns.barplot(x='Family', y='Survived', data=family_perc, order=[1,0], ax=axis2)\n",
      "\n",
      "axis1.set_xticklabels([\"With Family\",\"Alone\"], rotation=0)"
     ],
     "language": "python",
     "metadata": {
      "_cell_guid": "a89c93bb-e45b-44ce-8dee-430f584f4ed4",
      "_uuid": "be081da54cfceeb9e4ced700922e916d4d414de8"
     },
     "outputs": [
      {
       "output_type": "stream",
       "stream": "stderr",
       "text": [
        "/usr/lib/python2.7/dist-packages/pandas/core/indexing.py:117: SettingWithCopyWarning: \n",
        "A value is trying to be set on a copy of a slice from a DataFrame\n",
        "\n",
        "See the caveats in the documentation: http://pandas.pydata.org/pandas-docs/stable/indexing.html#indexing-view-versus-copy\n",
        "  self._setitem_with_indexer(indexer, value)\n"
       ]
      },
      {
       "metadata": {},
       "output_type": "pyout",
       "prompt_number": 10,
       "text": [
        "[<matplotlib.text.Text at 0x7fbd63b7e610>,\n",
        " <matplotlib.text.Text at 0x7fbd63ac77d0>]"
       ]
      },
      {
       "metadata": {},
       "output_type": "display_data",
       "png": "[encoded data removed]",
       "text": [
        "<matplotlib.figure.Figure at 0x7fbd63b58d10>"
       ]
      }
     ],
     "prompt_number": 10
    },
    {
     "cell_type": "code",
     "collapsed": false,
     "input": [
      "# Sex\n",
      "\n",
      "# As we see, children(age < ~16) on aboard seem to have a high chances for Survival.\n",
      "# So, we can classify passengers as males, females, and child\n",
      "def get_person(passenger):\n",
      "    age,sex = passenger\n",
      "    return 'child' if age < 16 else sex\n",
      "    \n",
      "titanic_df['Person'] = titanic_df[['Age','Sex']].apply(get_person,axis=1)\n",
      "test_df['Person']    = test_df[['Age','Sex']].apply(get_person,axis=1)\n",
      "\n",
      "# No need to use Sex column since we created Person column\n",
      "titanic_df.drop(['Sex'],axis=1,inplace=True)\n",
      "test_df.drop(['Sex'],axis=1,inplace=True)\n",
      "\n",
      "# create dummy variables for Person column, & drop Male as it has the lowest average of survived passengers\n",
      "person_dummies_titanic  = pd.get_dummies(titanic_df['Person'])\n",
      "person_dummies_titanic.columns = ['Child','Female','Male']\n",
      "person_dummies_titanic.drop(['Male'], axis=1, inplace=True)\n",
      "\n",
      "person_dummies_test  = pd.get_dummies(test_df['Person'])\n",
      "person_dummies_test.columns = ['Child','Female','Male']\n",
      "person_dummies_test.drop(['Male'], axis=1, inplace=True)\n",
      "\n",
      "titanic_df = titanic_df.join(person_dummies_titanic)\n",
      "test_df    = test_df.join(person_dummies_test)\n",
      "\n",
      "fig, (axis1,axis2) = plt.subplots(1,2,figsize=(10,5))\n",
      "\n",
      "# sns.factorplot('Person',data=titanic_df,kind='count',ax=axis1)\n",
      "sns.countplot(x='Person', data=titanic_df, ax=axis1)\n",
      "\n",
      "# average of survived for each Person(male, female, or child)\n",
      "person_perc = titanic_df[[\"Person\", \"Survived\"]].groupby(['Person'],as_index=False).mean()\n",
      "sns.barplot(x='Person', y='Survived', data=person_perc, ax=axis2, order=['male','female','child'])\n",
      "\n",
      "titanic_df.drop(['Person'],axis=1,inplace=True)\n",
      "test_df.drop(['Person'],axis=1,inplace=True)"
     ],
     "language": "python",
     "metadata": {
      "_cell_guid": "23c2f140-1dc0-48cd-a6e1-9786510b2606",
      "_uuid": "6f329b8591fa33e2812681c11d6b7f184424eff8"
     },
     "outputs": [
      {
       "metadata": {},
       "output_type": "display_data",
       "png": "[encoded data removed]",
       "text": [
        "<matplotlib.figure.Figure at 0x7fbd6396ef50>"
       ]
      }
     ],
     "prompt_number": 11
    },
    {
     "cell_type": "code",
     "collapsed": false,
     "input": [
      "# Pclass\n",
      "\n",
      "# sns.factorplot('Pclass',data=titanic_df,kind='count',order=[1,2,3])\n",
      "sns.factorplot('Pclass','Survived',order=[1,2,3], data=titanic_df,size=5)\n",
      "\n",
      "# create dummy variables for Pclass column, & drop 3rd class as it has the lowest average of survived passengers\n",
      "pclass_dummies_titanic  = pd.get_dummies(titanic_df['Pclass'])\n",
      "pclass_dummies_titanic.columns = ['Class_1','Class_2','Class_3']\n",
      "pclass_dummies_titanic.drop(['Class_3'], axis=1, inplace=True)\n",
      "\n",
      "pclass_dummies_test  = pd.get_dummies(test_df['Pclass'])\n",
      "pclass_dummies_test.columns = ['Class_1','Class_2','Class_3']\n",
      "pclass_dummies_test.drop(['Class_3'], axis=1, inplace=True)\n",
      "\n",
      "titanic_df.drop(['Pclass'],axis=1,inplace=True)\n",
      "test_df.drop(['Pclass'],axis=1,inplace=True)\n",
      "\n",
      "titanic_df = titanic_df.join(pclass_dummies_titanic)\n",
      "test_df    = test_df.join(pclass_dummies_test)"
     ],
     "language": "python",
     "metadata": {
      "_cell_guid": "0f126c1f-74b8-4063-8ac0-f44e6b8fc0bd",
      "_uuid": "713f0b9c480e28c394167c3fe1295da79ba246b6"
     },
     "outputs": [
      {
       "metadata": {},
       "output_type": "display_data",
       "png": "[encoded data removed]",
       "text": [
        "<matplotlib.figure.Figure at 0x7fbd63d6bcd0>"
       ]
      }
     ],
     "prompt_number": 12
    },
    {
     "cell_type": "code",
     "collapsed": false,
     "input": [
      "titanic_df.info()\n",
      "titanic_df.head()"
     ],
     "language": "python",
     "metadata": {},
     "outputs": [
      {
       "output_type": "stream",
       "stream": "stdout",
       "text": [
        "<class 'pandas.core.frame.DataFrame'>\n",
        "Int64Index: 891 entries, 0 to 890\n",
        "Data columns (total 10 columns):\n",
        "Survived    891 non-null int64\n",
        "Age         891 non-null int64\n",
        "Fare        891 non-null int64\n",
        "C           891 non-null float64\n",
        "Q           891 non-null float64\n",
        "Family      891 non-null int64\n",
        "Child       891 non-null float64\n",
        "Female      891 non-null float64\n",
        "Class_1     891 non-null float64\n",
        "Class_2     891 non-null float64\n",
        "dtypes: float64(6), int64(4)\n",
        "memory usage: 76.6 KB\n"
       ]
      },
      {
       "html": [
        "<div style=\"max-width:1500px;overflow:auto;\">\n",
        "<table border=\"1\" class=\"dataframe\">\n",
        "  <thead>\n",
        "    <tr style=\"text-align: right;\">\n",
        "      <th></th>\n",
        "      <th>Survived</th>\n",
        "      <th>Age</th>\n",
        "      <th>Fare</th>\n",
        "      <th>C</th>\n",
        "      <th>Q</th>\n",
        "      <th>Family</th>\n",
        "      <th>Child</th>\n",
        "      <th>Female</th>\n",
        "      <th>Class_1</th>\n",
        "      <th>Class_2</th>\n",
        "    </tr>\n",
        "  </thead>\n",
        "  <tbody>\n",
        "    <tr>\n",
        "      <th>0</th>\n",
        "      <td>0</td>\n",
        "      <td>22</td>\n",
        "      <td>7</td>\n",
        "      <td>0</td>\n",
        "      <td>0</td>\n",
        "      <td>1</td>\n",
        "      <td>0</td>\n",
        "      <td>0</td>\n",
        "      <td>0</td>\n",
        "      <td>0</td>\n",
        "    </tr>\n",
        "    <tr>\n",
        "      <th>1</th>\n",
        "      <td>1</td>\n",
        "      <td>38</td>\n",
        "      <td>71</td>\n",
        "      <td>1</td>\n",
        "      <td>0</td>\n",
        "      <td>1</td>\n",
        "      <td>0</td>\n",
        "      <td>1</td>\n",
        "      <td>1</td>\n",
        "      <td>0</td>\n",
        "    </tr>\n",
        "    <tr>\n",
        "      <th>2</th>\n",
        "      <td>1</td>\n",
        "      <td>26</td>\n",
        "      <td>7</td>\n",
        "      <td>0</td>\n",
        "      <td>0</td>\n",
        "      <td>0</td>\n",
        "      <td>0</td>\n",
        "      <td>1</td>\n",
        "      <td>0</td>\n",
        "      <td>0</td>\n",
        "    </tr>\n",
        "    <tr>\n",
        "      <th>3</th>\n",
        "      <td>1</td>\n",
        "      <td>35</td>\n",
        "      <td>53</td>\n",
        "      <td>0</td>\n",
        "      <td>0</td>\n",
        "      <td>1</td>\n",
        "      <td>0</td>\n",
        "      <td>1</td>\n",
        "      <td>1</td>\n",
        "      <td>0</td>\n",
        "    </tr>\n",
        "    <tr>\n",
        "      <th>4</th>\n",
        "      <td>0</td>\n",
        "      <td>35</td>\n",
        "      <td>8</td>\n",
        "      <td>0</td>\n",
        "      <td>0</td>\n",
        "      <td>0</td>\n",
        "      <td>0</td>\n",
        "      <td>0</td>\n",
        "      <td>0</td>\n",
        "      <td>0</td>\n",
        "    </tr>\n",
        "  </tbody>\n",
        "</table>\n",
        "</div>"
       ],
       "metadata": {},
       "output_type": "pyout",
       "prompt_number": 13,
       "text": [
        "   Survived  Age  Fare  C  Q  Family  Child  Female  Class_1  Class_2\n",
        "0         0   22     7  0  0       1      0       0        0        0\n",
        "1         1   38    71  1  0       1      0       1        1        0\n",
        "2         1   26     7  0  0       0      0       1        0        0\n",
        "3         1   35    53  0  0       1      0       1        1        0\n",
        "4         0   35     8  0  0       0      0       0        0        0"
       ]
      }
     ],
     "prompt_number": 13
    },
    {
     "cell_type": "code",
     "collapsed": false,
     "input": [
      "# define training and testing sets\n",
      "\n",
      "X_train = titanic_df.drop(\"Survived\",axis=1)\n",
      "Y_train = titanic_df[\"Survived\"]\n",
      "X_test  = test_df.drop(\"PassengerId\",axis=1).copy()"
     ],
     "language": "python",
     "metadata": {
      "_cell_guid": "5214295a-19cf-44b5-abe2-8989a0ed9670",
      "_uuid": "ee6dab6c436c5b972bca50b3538bd53c99e54a4d"
     },
     "outputs": [],
     "prompt_number": 14
    },
    {
     "cell_type": "code",
     "collapsed": false,
     "input": [
      "# Logistic Regression\n",
      "\n",
      "logreg = LogisticRegression()\n",
      "\n",
      "logreg.fit(X_train, Y_train)\n",
      "\n",
      "Y_pred = logreg.predict(X_test)\n",
      "\n",
      "logreg.score(X_train, Y_train)"
     ],
     "language": "python",
     "metadata": {
      "_cell_guid": "2b5424c0-196f-4d23-b1b8-1b10ac27be10",
      "_uuid": "3477512c1f1ebccdb822778968e0ce982e4ad43a"
     },
     "outputs": [
      {
       "metadata": {},
       "output_type": "pyout",
       "prompt_number": 15,
       "text": [
        "0.80920314253647585"
       ]
      }
     ],
     "prompt_number": 15
    },
    {
     "cell_type": "code",
     "collapsed": false,
     "input": [
      "# Support Vector Machines\n",
      "\n",
      "#svc = SVC()\n",
      "\n",
      "#svc.fit(X_train, Y_train)\n",
      "\n",
      "#Y_pred = svc.predict(X_test)\n",
      "\n",
      "#svc.score(X_train, Y_train)\n",
      "\n",
      "from sklearn.model_selection import GridSearchCV\n",
      "parameters = {'kernel': ['rbf'],\n",
      "                          'C':2**np.arange(0,10,2),\n",
      "                  'gamma':2.0**np.arange(-10,0,2)}\n",
      "clf = GridSearchCV(SVC(), parameters,cv=3)\n",
      "clf.fit(X_train,Y_train)\n",
      "clf.score(X_train,Y_train)\n",
      "\n"
     ],
     "language": "python",
     "metadata": {
      "_cell_guid": "74988880-7f9e-45f4-b6b7-f7fd43a63f95",
      "_uuid": "5595ec6a2e3ea386fac72a96d0dfe6c2376121ab"
     },
     "outputs": [
      {
       "ename": "KeyboardInterrupt",
       "evalue": "",
       "output_type": "pyerr",
       "traceback": [
        "\u001b[0;31m---------------------------------------------------------------------------\u001b[0m\n\u001b[0;31mKeyboardInterrupt\u001b[0m                         Traceback (most recent call last)",
        "\u001b[0;32m<ipython-input-23-08372a9a94ec>\u001b[0m in \u001b[0;36m<module>\u001b[0;34m()\u001b[0m\n\u001b[1;32m     14\u001b[0m                   'gamma':2.0**np.arange(-20,0,2)}\n\u001b[1;32m     15\u001b[0m \u001b[0mclf\u001b[0m \u001b[0;34m=\u001b[0m \u001b[0mGridSearchCV\u001b[0m\u001b[0;34m(\u001b[0m\u001b[0mSVC\u001b[0m\u001b[0;34m(\u001b[0m\u001b[0;34m)\u001b[0m\u001b[0;34m,\u001b[0m \u001b[0mparameters\u001b[0m\u001b[0;34m,\u001b[0m\u001b[0mcv\u001b[0m\u001b[0;34m=\u001b[0m\u001b[0;36m5\u001b[0m\u001b[0;34m)\u001b[0m\u001b[0;34m\u001b[0m\u001b[0m\n\u001b[0;32m---> 16\u001b[0;31m \u001b[0mclf\u001b[0m\u001b[0;34m.\u001b[0m\u001b[0mfit\u001b[0m\u001b[0;34m(\u001b[0m\u001b[0mX_train\u001b[0m\u001b[0;34m,\u001b[0m\u001b[0mY_train\u001b[0m\u001b[0;34m)\u001b[0m\u001b[0;34m\u001b[0m\u001b[0m\n\u001b[0m\u001b[1;32m     17\u001b[0m \u001b[0mclf\u001b[0m\u001b[0;34m.\u001b[0m\u001b[0mscore\u001b[0m\u001b[0;34m(\u001b[0m\u001b[0mX_train\u001b[0m\u001b[0;34m,\u001b[0m\u001b[0mY_train\u001b[0m\u001b[0;34m)\u001b[0m\u001b[0;34m\u001b[0m\u001b[0m\n\u001b[1;32m     18\u001b[0m \u001b[0;34m\u001b[0m\u001b[0m\n",
        "\u001b[0;32m/usr/local/lib/python2.7/dist-packages/sklearn/model_selection/_search.pyc\u001b[0m in \u001b[0;36mfit\u001b[0;34m(self, X, y, groups)\u001b[0m\n\u001b[1;32m    943\u001b[0m             \u001b[0mtrain\u001b[0m\u001b[0;34m/\u001b[0m\u001b[0mtest\u001b[0m \u001b[0mset\u001b[0m\u001b[0;34m.\u001b[0m\u001b[0;34m\u001b[0m\u001b[0m\n\u001b[1;32m    944\u001b[0m         \"\"\"\n\u001b[0;32m--> 945\u001b[0;31m         \u001b[0;32mreturn\u001b[0m \u001b[0mself\u001b[0m\u001b[0;34m.\u001b[0m\u001b[0m_fit\u001b[0m\u001b[0;34m(\u001b[0m\u001b[0mX\u001b[0m\u001b[0;34m,\u001b[0m \u001b[0my\u001b[0m\u001b[0;34m,\u001b[0m \u001b[0mgroups\u001b[0m\u001b[0;34m,\u001b[0m \u001b[0mParameterGrid\u001b[0m\u001b[0;34m(\u001b[0m\u001b[0mself\u001b[0m\u001b[0;34m.\u001b[0m\u001b[0mparam_grid\u001b[0m\u001b[0;34m)\u001b[0m\u001b[0;34m)\u001b[0m\u001b[0;34m\u001b[0m\u001b[0m\n\u001b[0m\u001b[1;32m    946\u001b[0m \u001b[0;34m\u001b[0m\u001b[0m\n\u001b[1;32m    947\u001b[0m \u001b[0;34m\u001b[0m\u001b[0m\n",
        "\u001b[0;32m/usr/local/lib/python2.7/dist-packages/sklearn/model_selection/_search.pyc\u001b[0m in \u001b[0;36m_fit\u001b[0;34m(self, X, y, groups, parameter_iterable)\u001b[0m\n\u001b[1;32m    562\u001b[0m                                   \u001b[0mreturn_times\u001b[0m\u001b[0;34m=\u001b[0m\u001b[0mTrue\u001b[0m\u001b[0;34m,\u001b[0m \u001b[0mreturn_parameters\u001b[0m\u001b[0;34m=\u001b[0m\u001b[0mTrue\u001b[0m\u001b[0;34m,\u001b[0m\u001b[0;34m\u001b[0m\u001b[0m\n\u001b[1;32m    563\u001b[0m                                   error_score=self.error_score)\n\u001b[0;32m--> 564\u001b[0;31m           \u001b[0;32mfor\u001b[0m \u001b[0mparameters\u001b[0m \u001b[0;32min\u001b[0m \u001b[0mparameter_iterable\u001b[0m\u001b[0;34m\u001b[0m\u001b[0m\n\u001b[0m\u001b[1;32m    565\u001b[0m           for train, test in cv_iter)\n\u001b[1;32m    566\u001b[0m \u001b[0;34m\u001b[0m\u001b[0m\n",
        "\u001b[0;32m/usr/local/lib/python2.7/dist-packages/sklearn/externals/joblib/parallel.pyc\u001b[0m in \u001b[0;36m__call__\u001b[0;34m(self, iterable)\u001b[0m\n\u001b[1;32m    756\u001b[0m             \u001b[0;31m# was dispatched. In particular this covers the edge\u001b[0m\u001b[0;34m\u001b[0m\u001b[0;34m\u001b[0m\u001b[0m\n\u001b[1;32m    757\u001b[0m             \u001b[0;31m# case of Parallel used with an exhausted iterator.\u001b[0m\u001b[0;34m\u001b[0m\u001b[0;34m\u001b[0m\u001b[0m\n\u001b[0;32m--> 758\u001b[0;31m             \u001b[0;32mwhile\u001b[0m \u001b[0mself\u001b[0m\u001b[0;34m.\u001b[0m\u001b[0mdispatch_one_batch\u001b[0m\u001b[0;34m(\u001b[0m\u001b[0miterator\u001b[0m\u001b[0;34m)\u001b[0m\u001b[0;34m:\u001b[0m\u001b[0;34m\u001b[0m\u001b[0m\n\u001b[0m\u001b[1;32m    759\u001b[0m                 \u001b[0mself\u001b[0m\u001b[0;34m.\u001b[0m\u001b[0m_iterating\u001b[0m \u001b[0;34m=\u001b[0m \u001b[0mTrue\u001b[0m\u001b[0;34m\u001b[0m\u001b[0m\n\u001b[1;32m    760\u001b[0m             \u001b[0;32melse\u001b[0m\u001b[0;34m:\u001b[0m\u001b[0;34m\u001b[0m\u001b[0m\n",
        "\u001b[0;32m/usr/local/lib/python2.7/dist-packages/sklearn/externals/joblib/parallel.pyc\u001b[0m in \u001b[0;36mdispatch_one_batch\u001b[0;34m(self, iterator)\u001b[0m\n\u001b[1;32m    606\u001b[0m                 \u001b[0;32mreturn\u001b[0m \u001b[0mFalse\u001b[0m\u001b[0;34m\u001b[0m\u001b[0m\n\u001b[1;32m    607\u001b[0m             \u001b[0;32melse\u001b[0m\u001b[0;34m:\u001b[0m\u001b[0;34m\u001b[0m\u001b[0m\n\u001b[0;32m--> 608\u001b[0;31m                 \u001b[0mself\u001b[0m\u001b[0;34m.\u001b[0m\u001b[0m_dispatch\u001b[0m\u001b[0;34m(\u001b[0m\u001b[0mtasks\u001b[0m\u001b[0;34m)\u001b[0m\u001b[0;34m\u001b[0m\u001b[0m\n\u001b[0m\u001b[1;32m    609\u001b[0m                 \u001b[0;32mreturn\u001b[0m \u001b[0mTrue\u001b[0m\u001b[0;34m\u001b[0m\u001b[0m\n\u001b[1;32m    610\u001b[0m \u001b[0;34m\u001b[0m\u001b[0m\n",
        "\u001b[0;32m/usr/local/lib/python2.7/dist-packages/sklearn/externals/joblib/parallel.pyc\u001b[0m in \u001b[0;36m_dispatch\u001b[0;34m(self, batch)\u001b[0m\n\u001b[1;32m    569\u001b[0m         \u001b[0mdispatch_timestamp\u001b[0m \u001b[0;34m=\u001b[0m \u001b[0mtime\u001b[0m\u001b[0;34m.\u001b[0m\u001b[0mtime\u001b[0m\u001b[0;34m(\u001b[0m\u001b[0;34m)\u001b[0m\u001b[0;34m\u001b[0m\u001b[0m\n\u001b[1;32m    570\u001b[0m         \u001b[0mcb\u001b[0m \u001b[0;34m=\u001b[0m \u001b[0mBatchCompletionCallBack\u001b[0m\u001b[0;34m(\u001b[0m\u001b[0mdispatch_timestamp\u001b[0m\u001b[0;34m,\u001b[0m \u001b[0mlen\u001b[0m\u001b[0;34m(\u001b[0m\u001b[0mbatch\u001b[0m\u001b[0;34m)\u001b[0m\u001b[0;34m,\u001b[0m \u001b[0mself\u001b[0m\u001b[0;34m)\u001b[0m\u001b[0;34m\u001b[0m\u001b[0m\n\u001b[0;32m--> 571\u001b[0;31m         \u001b[0mjob\u001b[0m \u001b[0;34m=\u001b[0m \u001b[0mself\u001b[0m\u001b[0;34m.\u001b[0m\u001b[0m_backend\u001b[0m\u001b[0;34m.\u001b[0m\u001b[0mapply_async\u001b[0m\u001b[0;34m(\u001b[0m\u001b[0mbatch\u001b[0m\u001b[0;34m,\u001b[0m \u001b[0mcallback\u001b[0m\u001b[0;34m=\u001b[0m\u001b[0mcb\u001b[0m\u001b[0;34m)\u001b[0m\u001b[0;34m\u001b[0m\u001b[0m\n\u001b[0m\u001b[1;32m    572\u001b[0m         \u001b[0mself\u001b[0m\u001b[0;34m.\u001b[0m\u001b[0m_jobs\u001b[0m\u001b[0;34m.\u001b[0m\u001b[0mappend\u001b[0m\u001b[0;34m(\u001b[0m\u001b[0mjob\u001b[0m\u001b[0;34m)\u001b[0m\u001b[0;34m\u001b[0m\u001b[0m\n\u001b[1;32m    573\u001b[0m \u001b[0;34m\u001b[0m\u001b[0m\n",
        "\u001b[0;32m/usr/local/lib/python2.7/dist-packages/sklearn/externals/joblib/_parallel_backends.pyc\u001b[0m in \u001b[0;36mapply_async\u001b[0;34m(self, func, callback)\u001b[0m\n\u001b[1;32m    107\u001b[0m     \u001b[0;32mdef\u001b[0m \u001b[0mapply_async\u001b[0m\u001b[0;34m(\u001b[0m\u001b[0mself\u001b[0m\u001b[0;34m,\u001b[0m \u001b[0mfunc\u001b[0m\u001b[0;34m,\u001b[0m \u001b[0mcallback\u001b[0m\u001b[0;34m=\u001b[0m\u001b[0mNone\u001b[0m\u001b[0;34m)\u001b[0m\u001b[0;34m:\u001b[0m\u001b[0;34m\u001b[0m\u001b[0m\n\u001b[1;32m    108\u001b[0m         \u001b[0;34m\"\"\"Schedule a func to be run\"\"\"\u001b[0m\u001b[0;34m\u001b[0m\u001b[0m\n\u001b[0;32m--> 109\u001b[0;31m         \u001b[0mresult\u001b[0m \u001b[0;34m=\u001b[0m \u001b[0mImmediateResult\u001b[0m\u001b[0;34m(\u001b[0m\u001b[0mfunc\u001b[0m\u001b[0;34m)\u001b[0m\u001b[0;34m\u001b[0m\u001b[0m\n\u001b[0m\u001b[1;32m    110\u001b[0m         \u001b[0;32mif\u001b[0m \u001b[0mcallback\u001b[0m\u001b[0;34m:\u001b[0m\u001b[0;34m\u001b[0m\u001b[0m\n\u001b[1;32m    111\u001b[0m             \u001b[0mcallback\u001b[0m\u001b[0;34m(\u001b[0m\u001b[0mresult\u001b[0m\u001b[0;34m)\u001b[0m\u001b[0;34m\u001b[0m\u001b[0m\n",
        "\u001b[0;32m/usr/local/lib/python2.7/dist-packages/sklearn/externals/joblib/_parallel_backends.pyc\u001b[0m in \u001b[0;36m__init__\u001b[0;34m(self, batch)\u001b[0m\n\u001b[1;32m    324\u001b[0m         \u001b[0;31m# Don't delay the application, to avoid keeping the input\u001b[0m\u001b[0;34m\u001b[0m\u001b[0;34m\u001b[0m\u001b[0m\n\u001b[1;32m    325\u001b[0m         \u001b[0;31m# arguments in memory\u001b[0m\u001b[0;34m\u001b[0m\u001b[0;34m\u001b[0m\u001b[0m\n\u001b[0;32m--> 326\u001b[0;31m         \u001b[0mself\u001b[0m\u001b[0;34m.\u001b[0m\u001b[0mresults\u001b[0m \u001b[0;34m=\u001b[0m \u001b[0mbatch\u001b[0m\u001b[0;34m(\u001b[0m\u001b[0;34m)\u001b[0m\u001b[0;34m\u001b[0m\u001b[0m\n\u001b[0m\u001b[1;32m    327\u001b[0m \u001b[0;34m\u001b[0m\u001b[0m\n\u001b[1;32m    328\u001b[0m     \u001b[0;32mdef\u001b[0m \u001b[0mget\u001b[0m\u001b[0;34m(\u001b[0m\u001b[0mself\u001b[0m\u001b[0;34m)\u001b[0m\u001b[0;34m:\u001b[0m\u001b[0;34m\u001b[0m\u001b[0m\n",
        "\u001b[0;32m/usr/local/lib/python2.7/dist-packages/sklearn/externals/joblib/parallel.pyc\u001b[0m in \u001b[0;36m__call__\u001b[0;34m(self)\u001b[0m\n\u001b[1;32m    129\u001b[0m \u001b[0;34m\u001b[0m\u001b[0m\n\u001b[1;32m    130\u001b[0m     \u001b[0;32mdef\u001b[0m \u001b[0m__call__\u001b[0m\u001b[0;34m(\u001b[0m\u001b[0mself\u001b[0m\u001b[0;34m)\u001b[0m\u001b[0;34m:\u001b[0m\u001b[0;34m\u001b[0m\u001b[0m\n\u001b[0;32m--> 131\u001b[0;31m         \u001b[0;32mreturn\u001b[0m \u001b[0;34m[\u001b[0m\u001b[0mfunc\u001b[0m\u001b[0;34m(\u001b[0m\u001b[0;34m*\u001b[0m\u001b[0margs\u001b[0m\u001b[0;34m,\u001b[0m \u001b[0;34m**\u001b[0m\u001b[0mkwargs\u001b[0m\u001b[0;34m)\u001b[0m \u001b[0;32mfor\u001b[0m \u001b[0mfunc\u001b[0m\u001b[0;34m,\u001b[0m \u001b[0margs\u001b[0m\u001b[0;34m,\u001b[0m \u001b[0mkwargs\u001b[0m \u001b[0;32min\u001b[0m \u001b[0mself\u001b[0m\u001b[0;34m.\u001b[0m\u001b[0mitems\u001b[0m\u001b[0;34m]\u001b[0m\u001b[0;34m\u001b[0m\u001b[0m\n\u001b[0m\u001b[1;32m    132\u001b[0m \u001b[0;34m\u001b[0m\u001b[0m\n\u001b[1;32m    133\u001b[0m     \u001b[0;32mdef\u001b[0m \u001b[0m__len__\u001b[0m\u001b[0;34m(\u001b[0m\u001b[0mself\u001b[0m\u001b[0;34m)\u001b[0m\u001b[0;34m:\u001b[0m\u001b[0;34m\u001b[0m\u001b[0m\n",
        "\u001b[0;32m/usr/local/lib/python2.7/dist-packages/sklearn/model_selection/_validation.pyc\u001b[0m in \u001b[0;36m_fit_and_score\u001b[0;34m(estimator, X, y, scorer, train, test, verbose, parameters, fit_params, return_train_score, return_parameters, return_n_test_samples, return_times, error_score)\u001b[0m\n\u001b[1;32m    236\u001b[0m             \u001b[0mestimator\u001b[0m\u001b[0;34m.\u001b[0m\u001b[0mfit\u001b[0m\u001b[0;34m(\u001b[0m\u001b[0mX_train\u001b[0m\u001b[0;34m,\u001b[0m \u001b[0;34m**\u001b[0m\u001b[0mfit_params\u001b[0m\u001b[0;34m)\u001b[0m\u001b[0;34m\u001b[0m\u001b[0m\n\u001b[1;32m    237\u001b[0m         \u001b[0;32melse\u001b[0m\u001b[0;34m:\u001b[0m\u001b[0;34m\u001b[0m\u001b[0m\n\u001b[0;32m--> 238\u001b[0;31m             \u001b[0mestimator\u001b[0m\u001b[0;34m.\u001b[0m\u001b[0mfit\u001b[0m\u001b[0;34m(\u001b[0m\u001b[0mX_train\u001b[0m\u001b[0;34m,\u001b[0m \u001b[0my_train\u001b[0m\u001b[0;34m,\u001b[0m \u001b[0;34m**\u001b[0m\u001b[0mfit_params\u001b[0m\u001b[0;34m)\u001b[0m\u001b[0;34m\u001b[0m\u001b[0m\n\u001b[0m\u001b[1;32m    239\u001b[0m \u001b[0;34m\u001b[0m\u001b[0m\n\u001b[1;32m    240\u001b[0m     \u001b[0;32mexcept\u001b[0m \u001b[0mException\u001b[0m \u001b[0;32mas\u001b[0m \u001b[0me\u001b[0m\u001b[0;34m:\u001b[0m\u001b[0;34m\u001b[0m\u001b[0m\n",
        "\u001b[0;32m/usr/local/lib/python2.7/dist-packages/sklearn/svm/base.pyc\u001b[0m in \u001b[0;36mfit\u001b[0;34m(self, X, y, sample_weight)\u001b[0m\n\u001b[1;32m    187\u001b[0m \u001b[0;34m\u001b[0m\u001b[0m\n\u001b[1;32m    188\u001b[0m         \u001b[0mseed\u001b[0m \u001b[0;34m=\u001b[0m \u001b[0mrnd\u001b[0m\u001b[0;34m.\u001b[0m\u001b[0mrandint\u001b[0m\u001b[0;34m(\u001b[0m\u001b[0mnp\u001b[0m\u001b[0;34m.\u001b[0m\u001b[0miinfo\u001b[0m\u001b[0;34m(\u001b[0m\u001b[0;34m'i'\u001b[0m\u001b[0;34m)\u001b[0m\u001b[0;34m.\u001b[0m\u001b[0mmax\u001b[0m\u001b[0;34m)\u001b[0m\u001b[0;34m\u001b[0m\u001b[0m\n\u001b[0;32m--> 189\u001b[0;31m         \u001b[0mfit\u001b[0m\u001b[0;34m(\u001b[0m\u001b[0mX\u001b[0m\u001b[0;34m,\u001b[0m \u001b[0my\u001b[0m\u001b[0;34m,\u001b[0m \u001b[0msample_weight\u001b[0m\u001b[0;34m,\u001b[0m \u001b[0msolver_type\u001b[0m\u001b[0;34m,\u001b[0m \u001b[0mkernel\u001b[0m\u001b[0;34m,\u001b[0m \u001b[0mrandom_seed\u001b[0m\u001b[0;34m=\u001b[0m\u001b[0mseed\u001b[0m\u001b[0;34m)\u001b[0m\u001b[0;34m\u001b[0m\u001b[0m\n\u001b[0m\u001b[1;32m    190\u001b[0m         \u001b[0;31m# see comment on the other call to np.iinfo in this file\u001b[0m\u001b[0;34m\u001b[0m\u001b[0;34m\u001b[0m\u001b[0m\n\u001b[1;32m    191\u001b[0m \u001b[0;34m\u001b[0m\u001b[0m\n",
        "\u001b[0;32m/usr/local/lib/python2.7/dist-packages/sklearn/svm/base.pyc\u001b[0m in \u001b[0;36m_dense_fit\u001b[0;34m(self, X, y, sample_weight, solver_type, kernel, random_seed)\u001b[0m\n\u001b[1;32m    254\u001b[0m                 \u001b[0mcache_size\u001b[0m\u001b[0;34m=\u001b[0m\u001b[0mself\u001b[0m\u001b[0;34m.\u001b[0m\u001b[0mcache_size\u001b[0m\u001b[0;34m,\u001b[0m \u001b[0mcoef0\u001b[0m\u001b[0;34m=\u001b[0m\u001b[0mself\u001b[0m\u001b[0;34m.\u001b[0m\u001b[0mcoef0\u001b[0m\u001b[0;34m,\u001b[0m\u001b[0;34m\u001b[0m\u001b[0m\n\u001b[1;32m    255\u001b[0m                 \u001b[0mgamma\u001b[0m\u001b[0;34m=\u001b[0m\u001b[0mself\u001b[0m\u001b[0;34m.\u001b[0m\u001b[0m_gamma\u001b[0m\u001b[0;34m,\u001b[0m \u001b[0mepsilon\u001b[0m\u001b[0;34m=\u001b[0m\u001b[0mself\u001b[0m\u001b[0;34m.\u001b[0m\u001b[0mepsilon\u001b[0m\u001b[0;34m,\u001b[0m\u001b[0;34m\u001b[0m\u001b[0m\n\u001b[0;32m--> 256\u001b[0;31m                 max_iter=self.max_iter, random_seed=random_seed)\n\u001b[0m\u001b[1;32m    257\u001b[0m \u001b[0;34m\u001b[0m\u001b[0m\n\u001b[1;32m    258\u001b[0m         \u001b[0mself\u001b[0m\u001b[0;34m.\u001b[0m\u001b[0m_warn_from_fit_status\u001b[0m\u001b[0;34m(\u001b[0m\u001b[0;34m)\u001b[0m\u001b[0;34m\u001b[0m\u001b[0m\n",
        "\u001b[0;31mKeyboardInterrupt\u001b[0m: "
       ]
      }
     ],
     "prompt_number": 23
    },
    {
     "cell_type": "code",
     "collapsed": false,
     "input": [
      "# Random Forests\n",
      "\n",
      "random_forest = RandomForestClassifier(n_estimators=100)\n",
      "\n",
      "random_forest.fit(X_train, Y_train)\n",
      "\n",
      "Y_pred = random_forest.predict(X_test)\n",
      "\n",
      "random_forest.score(X_train, Y_train)"
     ],
     "language": "python",
     "metadata": {
      "_cell_guid": "0f8b05ff-c21e-4e0e-975d-21af19c6b6b3",
      "_uuid": "f3d5b7bedc2d95cc356001c2349727351a753bac"
     },
     "outputs": []
    },
    {
     "cell_type": "code",
     "collapsed": false,
     "input": [
      "knn = KNeighborsClassifier(n_neighbors = 3)\n",
      "\n",
      "knn.fit(X_train, Y_train)\n",
      "\n",
      "Y_pred = knn.predict(X_test)\n",
      "\n",
      "knn.score(X_train, Y_train)"
     ],
     "language": "python",
     "metadata": {
      "_cell_guid": "499918bf-8ba4-4a79-b8d8-4c26ece9a3b8",
      "_uuid": "9d0a92ae25a2c7111d46a048f00b108ea25060e9"
     },
     "outputs": [
      {
       "metadata": {},
       "output_type": "pyout",
       "prompt_number": 19,
       "text": [
        "0.82603815937149272"
       ]
      }
     ],
     "prompt_number": 19
    },
    {
     "cell_type": "code",
     "collapsed": false,
     "input": [
      "# Gaussian Naive Bayes\n",
      "\n",
      "gaussian = GaussianNB()\n",
      "\n",
      "gaussian.fit(X_train, Y_train)\n",
      "\n",
      "Y_pred = gaussian.predict(X_test)\n",
      "\n",
      "gaussian.score(X_train, Y_train)"
     ],
     "language": "python",
     "metadata": {
      "_cell_guid": "15801b79-73c3-4fa4-b8be-21d32645a403",
      "_uuid": "b5bd5e59b3ddd6f75a32c669ef77c9bd61bfb797"
     },
     "outputs": []
    },
    {
     "cell_type": "code",
     "collapsed": false,
     "input": [
      "# get Correlation Coefficient for each feature using Logistic Regression\n",
      "coeff_df = DataFrame(titanic_df.columns.delete(0))\n",
      "coeff_df.columns = ['Features']\n",
      "coeff_df[\"Coefficient Estimate\"] = pd.Series(logreg.coef_[0])\n",
      "\n",
      "# preview\n",
      "coeff_df"
     ],
     "language": "python",
     "metadata": {
      "_cell_guid": "26dd2732-b34f-4177-8786-8794537494e1",
      "_uuid": "d9062ba41da5153291cac625cc4bd89a68c5f563"
     },
     "outputs": [
      {
       "html": [
        "<div style=\"max-width:1500px;overflow:auto;\">\n",
        "<table border=\"1\" class=\"dataframe\">\n",
        "  <thead>\n",
        "    <tr style=\"text-align: right;\">\n",
        "      <th></th>\n",
        "      <th>Features</th>\n",
        "      <th>Coefficient Estimate</th>\n",
        "    </tr>\n",
        "  </thead>\n",
        "  <tbody>\n",
        "    <tr>\n",
        "      <th>0</th>\n",
        "      <td>Age</td>\n",
        "      <td>-0.018236</td>\n",
        "    </tr>\n",
        "    <tr>\n",
        "      <th>1</th>\n",
        "      <td>Fare</td>\n",
        "      <td>0.000930</td>\n",
        "    </tr>\n",
        "    <tr>\n",
        "      <th>2</th>\n",
        "      <td>C</td>\n",
        "      <td>0.602430</td>\n",
        "    </tr>\n",
        "    <tr>\n",
        "      <th>3</th>\n",
        "      <td>Q</td>\n",
        "      <td>0.327359</td>\n",
        "    </tr>\n",
        "    <tr>\n",
        "      <th>4</th>\n",
        "      <td>Family</td>\n",
        "      <td>-0.237645</td>\n",
        "    </tr>\n",
        "    <tr>\n",
        "      <th>5</th>\n",
        "      <td>Child</td>\n",
        "      <td>1.927677</td>\n",
        "    </tr>\n",
        "    <tr>\n",
        "      <th>6</th>\n",
        "      <td>Female</td>\n",
        "      <td>2.763748</td>\n",
        "    </tr>\n",
        "    <tr>\n",
        "      <th>7</th>\n",
        "      <td>Class_1</td>\n",
        "      <td>1.959831</td>\n",
        "    </tr>\n",
        "    <tr>\n",
        "      <th>8</th>\n",
        "      <td>Class_2</td>\n",
        "      <td>1.112926</td>\n",
        "    </tr>\n",
        "  </tbody>\n",
        "</table>\n",
        "</div>"
       ],
       "metadata": {},
       "output_type": "pyout",
       "prompt_number": 21,
       "text": [
        "  Features  Coefficient Estimate\n",
        "0      Age             -0.018236\n",
        "1     Fare              0.000930\n",
        "2        C              0.602430\n",
        "3        Q              0.327359\n",
        "4   Family             -0.237645\n",
        "5    Child              1.927677\n",
        "6   Female              2.763748\n",
        "7  Class_1              1.959831\n",
        "8  Class_2              1.112926"
       ]
      }
     ],
     "prompt_number": 21
    },
    {
     "cell_type": "code",
     "collapsed": false,
     "input": [
      "submission = pd.DataFrame({\n",
      "        \"PassengerId\": test_df[\"PassengerId\"],\n",
      "        \"Survived\": Y_pred\n",
      "    })\n",
      "submission.to_csv('titanic.csv', index=False)"
     ],
     "language": "python",
     "metadata": {
      "_cell_guid": "bf28672b-9264-4d5a-95f8-47effc0e2e4c",
      "_uuid": "58a19dcd173592381e8f43a24a04c365564feb0c"
     },
     "outputs": [],
     "prompt_number": null
    }
   ],
   "metadata": {}
  }
 ]
}